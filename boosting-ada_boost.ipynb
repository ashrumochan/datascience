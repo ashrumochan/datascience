{
 "cells": [
  {
   "cell_type": "code",
   "execution_count": 25,
   "metadata": {},
   "outputs": [],
   "source": [
    "import pandas as pd\n",
    "import os\n",
    "from sklearn import preprocessing\n",
    "from sklearn import ensemble,tree\n",
    "from sklearn import model_selection\n",
    "import matplotlib.pyplot as plt"
   ]
  },
  {
   "cell_type": "code",
   "execution_count": 4,
   "metadata": {},
   "outputs": [
    {
     "name": "stdout",
     "output_type": "stream",
     "text": [
      "<class 'pandas.core.frame.DataFrame'>\n",
      "RangeIndex: 891 entries, 0 to 890\n",
      "Data columns (total 12 columns):\n",
      "PassengerId    891 non-null int64\n",
      "Survived       891 non-null int64\n",
      "Pclass         891 non-null int64\n",
      "Name           891 non-null object\n",
      "Sex            891 non-null object\n",
      "Age            714 non-null float64\n",
      "SibSp          891 non-null int64\n",
      "Parch          891 non-null int64\n",
      "Ticket         891 non-null object\n",
      "Fare           891 non-null float64\n",
      "Cabin          204 non-null object\n",
      "Embarked       889 non-null object\n",
      "dtypes: float64(2), int64(5), object(5)\n",
      "memory usage: 83.6+ KB\n",
      "<class 'pandas.core.frame.DataFrame'>\n",
      "RangeIndex: 418 entries, 0 to 417\n",
      "Data columns (total 11 columns):\n",
      "PassengerId    418 non-null int64\n",
      "Pclass         418 non-null int64\n",
      "Name           418 non-null object\n",
      "Sex            418 non-null object\n",
      "Age            332 non-null float64\n",
      "SibSp          418 non-null int64\n",
      "Parch          418 non-null int64\n",
      "Ticket         418 non-null object\n",
      "Fare           417 non-null float64\n",
      "Cabin          91 non-null object\n",
      "Embarked       418 non-null object\n",
      "dtypes: float64(2), int64(4), object(5)\n",
      "memory usage: 36.0+ KB\n"
     ]
    }
   ],
   "source": [
    "titanic_train = pd.read_csv(\"D:/study/datascience/train.csv\")\n",
    "titanic_train.shape\n",
    "titanic_train.info()"
   ]
  },
  {
   "cell_type": "code",
   "execution_count": 5,
   "metadata": {},
   "outputs": [
    {
     "name": "stdout",
     "output_type": "stream",
     "text": [
      "<class 'pandas.core.frame.DataFrame'>\n",
      "RangeIndex: 418 entries, 0 to 417\n",
      "Data columns (total 11 columns):\n",
      "PassengerId    418 non-null int64\n",
      "Pclass         418 non-null int64\n",
      "Name           418 non-null object\n",
      "Sex            418 non-null object\n",
      "Age            332 non-null float64\n",
      "SibSp          418 non-null int64\n",
      "Parch          418 non-null int64\n",
      "Ticket         418 non-null object\n",
      "Fare           417 non-null float64\n",
      "Cabin          91 non-null object\n",
      "Embarked       418 non-null object\n",
      "dtypes: float64(2), int64(4), object(5)\n",
      "memory usage: 36.0+ KB\n"
     ]
    }
   ],
   "source": [
    "titanic_test = pd.read_csv('D:/study/datascience/test.csv')\n",
    "titanic_test.shape\n",
    "titanic_test.info()\n",
    "titanic_test.Survived = None"
   ]
  },
  {
   "cell_type": "code",
   "execution_count": 8,
   "metadata": {},
   "outputs": [
    {
     "name": "stderr",
     "output_type": "stream",
     "text": [
      "C:\\Users\\abhera\\Anaconda3\\lib\\site-packages\\ipykernel_launcher.py:2: FutureWarning: Sorting because non-concatenation axis is not aligned. A future version\n",
      "of pandas will change to not sort by default.\n",
      "\n",
      "To accept the future behavior, pass 'sort=False'.\n",
      "\n",
      "To retain the current behavior and silence the warning, pass 'sort=True'.\n",
      "\n",
      "  \n"
     ]
    }
   ],
   "source": [
    "#it gives the same never of levels for all the categorical variables\n",
    "titanic = pd.concat([titanic_train, titanic_test])"
   ]
  },
  {
   "cell_type": "code",
   "execution_count": 10,
   "metadata": {},
   "outputs": [],
   "source": [
    "#create title column from name\n",
    "def extract_title(name):\n",
    "     return name.split(',')[1].split('.')[0].strip()\n",
    "titanic['Title'] = titanic['Name'].map(extract_title)"
   ]
  },
  {
   "cell_type": "code",
   "execution_count": 11,
   "metadata": {},
   "outputs": [],
   "source": [
    "#create an instance of Imputer class with required arguments\n",
    "mean_imputer = preprocessing.Imputer()\n",
    "#compute mean of age and fare respectively\n",
    "mean_imputer.fit(titanic_train[['Age','Fare']])\n",
    "#fill up the missing data with the computed means \n",
    "titanic[['Age','Fare']] = mean_imputer.transform(titanic[['Age','Fare']])"
   ]
  },
  {
   "cell_type": "code",
   "execution_count": 12,
   "metadata": {},
   "outputs": [],
   "source": [
    "#creaate categorical age column from age\n",
    "def convert_age(age):\n",
    "    if(age >= 0 and age <= 10): \n",
    "        return 'Child'\n",
    "    elif(age <= 25): \n",
    "        return 'Young'\n",
    "    elif(age <= 50): \n",
    "        return 'Middle'\n",
    "    else: \n",
    "        return 'Old'\n",
    "titanic['Age1'] = titanic['Age'].map(convert_age)"
   ]
  },
  {
   "cell_type": "code",
   "execution_count": 14,
   "metadata": {},
   "outputs": [],
   "source": [
    "titanic['FamilySize'] = titanic['SibSp'] +  titanic['Parch'] + 1\n",
    "def convert_familysize(size):\n",
    "    if(size == 1): \n",
    "        return 'Single'\n",
    "    elif(size <=3): \n",
    "        return 'Small'\n",
    "    elif(size <= 6): \n",
    "        return 'Medium'\n",
    "    else: \n",
    "        return 'Large'\n",
    "titanic['FamilySize1'] = titanic['FamilySize'].map(convert_familysize)"
   ]
  },
  {
   "cell_type": "code",
   "execution_count": 15,
   "metadata": {},
   "outputs": [
    {
     "name": "stdout",
     "output_type": "stream",
     "text": [
      "<class 'pandas.core.frame.DataFrame'>\n",
      "Int64Index: 1309 entries, 0 to 417\n",
      "Data columns (total 44 columns):\n",
      "Age                   1309 non-null float64\n",
      "Cabin                 295 non-null object\n",
      "Fare                  1309 non-null float64\n",
      "Name                  1309 non-null object\n",
      "Parch                 1309 non-null int64\n",
      "PassengerId           1309 non-null int64\n",
      "SibSp                 1309 non-null int64\n",
      "Survived              891 non-null float64\n",
      "Ticket                1309 non-null object\n",
      "FamilySize            1309 non-null int64\n",
      "Sex_female            1309 non-null uint8\n",
      "Sex_male              1309 non-null uint8\n",
      "Pclass_1              1309 non-null uint8\n",
      "Pclass_2              1309 non-null uint8\n",
      "Pclass_3              1309 non-null uint8\n",
      "Embarked_C            1309 non-null uint8\n",
      "Embarked_Q            1309 non-null uint8\n",
      "Embarked_S            1309 non-null uint8\n",
      "Age1_Child            1309 non-null uint8\n",
      "Age1_Middle           1309 non-null uint8\n",
      "Age1_Old              1309 non-null uint8\n",
      "Age1_Young            1309 non-null uint8\n",
      "Title_Capt            1309 non-null uint8\n",
      "Title_Col             1309 non-null uint8\n",
      "Title_Don             1309 non-null uint8\n",
      "Title_Dona            1309 non-null uint8\n",
      "Title_Dr              1309 non-null uint8\n",
      "Title_Jonkheer        1309 non-null uint8\n",
      "Title_Lady            1309 non-null uint8\n",
      "Title_Major           1309 non-null uint8\n",
      "Title_Master          1309 non-null uint8\n",
      "Title_Miss            1309 non-null uint8\n",
      "Title_Mlle            1309 non-null uint8\n",
      "Title_Mme             1309 non-null uint8\n",
      "Title_Mr              1309 non-null uint8\n",
      "Title_Mrs             1309 non-null uint8\n",
      "Title_Ms              1309 non-null uint8\n",
      "Title_Rev             1309 non-null uint8\n",
      "Title_Sir             1309 non-null uint8\n",
      "Title_the Countess    1309 non-null uint8\n",
      "FamilySize1_Large     1309 non-null uint8\n",
      "FamilySize1_Medium    1309 non-null uint8\n",
      "FamilySize1_Single    1309 non-null uint8\n",
      "FamilySize1_Small     1309 non-null uint8\n",
      "dtypes: float64(3), int64(4), object(3), uint8(34)\n",
      "memory usage: 156.0+ KB\n"
     ]
    }
   ],
   "source": [
    "#convert categorical columns to one-hot encoded columns\n",
    "titanic1 = pd.get_dummies(titanic, columns=['Sex','Pclass','Embarked', 'Age1', 'Title', 'FamilySize1'])\n",
    "titanic1.shape\n",
    "titanic1.info()"
   ]
  },
  {
   "cell_type": "code",
   "execution_count": 16,
   "metadata": {},
   "outputs": [
    {
     "data": {
      "text/plain": [
       "(1309, 38)"
      ]
     },
     "execution_count": 16,
     "metadata": {},
     "output_type": "execute_result"
    }
   ],
   "source": [
    "titanic2 = titanic1.drop(['PassengerId','Name','Age','Ticket','Cabin','Survived'], axis=1, inplace=False)\n",
    "titanic2.shape"
   ]
  },
  {
   "cell_type": "code",
   "execution_count": 17,
   "metadata": {},
   "outputs": [
    {
     "name": "stdout",
     "output_type": "stream",
     "text": [
      "<class 'pandas.core.frame.DataFrame'>\n",
      "Int64Index: 891 entries, 0 to 890\n",
      "Data columns (total 38 columns):\n",
      "Fare                  891 non-null float64\n",
      "Parch                 891 non-null int64\n",
      "SibSp                 891 non-null int64\n",
      "FamilySize            891 non-null int64\n",
      "Sex_female            891 non-null uint8\n",
      "Sex_male              891 non-null uint8\n",
      "Pclass_1              891 non-null uint8\n",
      "Pclass_2              891 non-null uint8\n",
      "Pclass_3              891 non-null uint8\n",
      "Embarked_C            891 non-null uint8\n",
      "Embarked_Q            891 non-null uint8\n",
      "Embarked_S            891 non-null uint8\n",
      "Age1_Child            891 non-null uint8\n",
      "Age1_Middle           891 non-null uint8\n",
      "Age1_Old              891 non-null uint8\n",
      "Age1_Young            891 non-null uint8\n",
      "Title_Capt            891 non-null uint8\n",
      "Title_Col             891 non-null uint8\n",
      "Title_Don             891 non-null uint8\n",
      "Title_Dona            891 non-null uint8\n",
      "Title_Dr              891 non-null uint8\n",
      "Title_Jonkheer        891 non-null uint8\n",
      "Title_Lady            891 non-null uint8\n",
      "Title_Major           891 non-null uint8\n",
      "Title_Master          891 non-null uint8\n",
      "Title_Miss            891 non-null uint8\n",
      "Title_Mlle            891 non-null uint8\n",
      "Title_Mme             891 non-null uint8\n",
      "Title_Mr              891 non-null uint8\n",
      "Title_Mrs             891 non-null uint8\n",
      "Title_Ms              891 non-null uint8\n",
      "Title_Rev             891 non-null uint8\n",
      "Title_Sir             891 non-null uint8\n",
      "Title_the Countess    891 non-null uint8\n",
      "FamilySize1_Large     891 non-null uint8\n",
      "FamilySize1_Medium    891 non-null uint8\n",
      "FamilySize1_Single    891 non-null uint8\n",
      "FamilySize1_Small     891 non-null uint8\n",
      "dtypes: float64(1), int64(3), uint8(34)\n",
      "memory usage: 64.4 KB\n"
     ]
    }
   ],
   "source": [
    "X_train = titanic2[0:titanic_train.shape[0]]\n",
    "X_train.shape\n",
    "X_train.info()\n",
    "y_train = titanic_train['Survived']"
   ]
  },
  {
   "cell_type": "code",
   "execution_count": 19,
   "metadata": {},
   "outputs": [
    {
     "name": "stdout",
     "output_type": "stream",
     "text": [
      "[mean: 0.82941, std: 0.02866, params: {'base_estimator__max_depth': 3, 'learning_rate': 0.01, 'n_estimators': 50}, mean: 0.82716, std: 0.02758, params: {'base_estimator__max_depth': 3, 'learning_rate': 0.02, 'n_estimators': 50}, mean: 0.79237, std: 0.04558, params: {'base_estimator__max_depth': 3, 'learning_rate': 0.8, 'n_estimators': 50}]\n",
      "0.8294051627384961\n",
      "{'base_estimator__max_depth': 3, 'learning_rate': 0.01, 'n_estimators': 50}\n",
      "0.8484848484848485\n"
     ]
    },
    {
     "name": "stderr",
     "output_type": "stream",
     "text": [
      "C:\\Users\\abhera\\Anaconda3\\lib\\site-packages\\sklearn\\model_selection\\_search.py:762: DeprecationWarning: The grid_scores_ attribute was deprecated in version 0.18 in favor of the more elaborate cv_results_ attribute. The grid_scores_ attribute will not be available from 0.20\n",
      "  DeprecationWarning)\n"
     ]
    }
   ],
   "source": [
    "#oob scrore is computed as part of model construction process\n",
    "dt_estimator = tree.DecisionTreeClassifier()\n",
    "ada_estimator = ensemble.AdaBoostClassifier(base_estimator = dt_estimator, random_state = 2017)\n",
    "ada_grid = {'n_estimators':[50], 'learning_rate':[0.01,0.02,0.8], 'base_estimator__max_depth':[3]}\n",
    "grid_ada_estimator = model_selection.GridSearchCV(ada_estimator, ada_grid, cv=10, n_jobs=5)\n",
    "grid_ada_estimator.fit(X_train, y_train)\n",
    "print(grid_ada_estimator.grid_scores_)\n",
    "print(grid_ada_estimator.best_score_)\n",
    "print(grid_ada_estimator.best_params_)\n",
    "print(grid_ada_estimator.score(X_train, y_train))"
   ]
  },
  {
   "cell_type": "code",
   "execution_count": 20,
   "metadata": {},
   "outputs": [
    {
     "name": "stdout",
     "output_type": "stream",
     "text": [
      "               feature  importance\n",
      "0                 Fare    0.067104\n",
      "1                Parch    0.000000\n",
      "2                SibSp    0.000000\n",
      "3           FamilySize    0.071718\n",
      "4           Sex_female    0.176231\n",
      "5             Sex_male    0.226156\n",
      "6             Pclass_1    0.044758\n",
      "7             Pclass_2    0.000000\n",
      "8             Pclass_3    0.141121\n",
      "9           Embarked_C    0.000394\n",
      "10          Embarked_Q    0.000000\n",
      "11          Embarked_S    0.007751\n",
      "12          Age1_Child    0.000000\n",
      "13         Age1_Middle    0.001512\n",
      "14            Age1_Old    0.010642\n",
      "15          Age1_Young    0.000000\n",
      "16          Title_Capt    0.000000\n",
      "17           Title_Col    0.000000\n",
      "18           Title_Don    0.000000\n",
      "19          Title_Dona    0.000000\n",
      "20            Title_Dr    0.000000\n",
      "21      Title_Jonkheer    0.000000\n",
      "22          Title_Lady    0.000000\n",
      "23         Title_Major    0.000000\n",
      "24        Title_Master    0.042210\n",
      "25          Title_Miss    0.000000\n",
      "26          Title_Mlle    0.000000\n",
      "27           Title_Mme    0.000000\n",
      "28            Title_Mr    0.210027\n",
      "29           Title_Mrs    0.000000\n",
      "30            Title_Ms    0.000000\n",
      "31           Title_Rev    0.000000\n",
      "32           Title_Sir    0.000000\n",
      "33  Title_the Countess    0.000000\n",
      "34   FamilySize1_Large    0.000000\n",
      "35  FamilySize1_Medium    0.000376\n",
      "36  FamilySize1_Single    0.000000\n",
      "37   FamilySize1_Small    0.000000\n"
     ]
    }
   ],
   "source": [
    "#exlore feature importances calculated by decision tree algorithm\n",
    "features = X_train.columns\n",
    "importances = grid_ada_estimator.best_estimator_.feature_importances_\n",
    "fe_df = pd.DataFrame({'feature':features, 'importance': importances})\n",
    "print(fe_df)"
   ]
  },
  {
   "cell_type": "code",
   "execution_count": 30,
   "metadata": {},
   "outputs": [],
   "source": [
    "fi_df2 = fe_df[fe_df.importance!=0]\n",
    "fi_df2 = fi_df2.sort_values(\"importance\",ascending=False)"
   ]
  },
  {
   "cell_type": "code",
   "execution_count": 31,
   "metadata": {},
   "outputs": [
    {
     "data": {
      "image/png": "[encoded data removed]",
      "text/plain": [
       "<Figure size 1080x576 with 1 Axes>"
      ]
     },
     "metadata": {
      "needs_background": "light"
     },
     "output_type": "display_data"
    }
   ],
   "source": [
    "plt.figure(figsize=(15,8))\n",
    "plt.bar(fi_df2[\"feature\"],fi_df2[\"importance\"],color=\"rgbkymc\") \n",
    "plt.xticks(fi_df2[\"feature\"],rotation='vertical')\n",
    "plt.show()"
   ]
  },
  {
   "cell_type": "code",
   "execution_count": 21,
   "metadata": {},
   "outputs": [
    {
     "name": "stdout",
     "output_type": "stream",
     "text": [
      "<class 'pandas.core.frame.DataFrame'>\n",
      "Int64Index: 418 entries, 0 to 417\n",
      "Data columns (total 38 columns):\n",
      "Fare                  418 non-null float64\n",
      "Parch                 418 non-null int64\n",
      "SibSp                 418 non-null int64\n",
      "FamilySize            418 non-null int64\n",
      "Sex_female            418 non-null uint8\n",
      "Sex_male              418 non-null uint8\n",
      "Pclass_1              418 non-null uint8\n",
      "Pclass_2              418 non-null uint8\n",
      "Pclass_3              418 non-null uint8\n",
      "Embarked_C            418 non-null uint8\n",
      "Embarked_Q            418 non-null uint8\n",
      "Embarked_S            418 non-null uint8\n",
      "Age1_Child            418 non-null uint8\n",
      "Age1_Middle           418 non-null uint8\n",
      "Age1_Old              418 non-null uint8\n",
      "Age1_Young            418 non-null uint8\n",
      "Title_Capt            418 non-null uint8\n",
      "Title_Col             418 non-null uint8\n",
      "Title_Don             418 non-null uint8\n",
      "Title_Dona            418 non-null uint8\n",
      "Title_Dr              418 non-null uint8\n",
      "Title_Jonkheer        418 non-null uint8\n",
      "Title_Lady            418 non-null uint8\n",
      "Title_Major           418 non-null uint8\n",
      "Title_Master          418 non-null uint8\n",
      "Title_Miss            418 non-null uint8\n",
      "Title_Mlle            418 non-null uint8\n",
      "Title_Mme             418 non-null uint8\n",
      "Title_Mr              418 non-null uint8\n",
      "Title_Mrs             418 non-null uint8\n",
      "Title_Ms              418 non-null uint8\n",
      "Title_Rev             418 non-null uint8\n",
      "Title_Sir             418 non-null uint8\n",
      "Title_the Countess    418 non-null uint8\n",
      "FamilySize1_Large     418 non-null uint8\n",
      "FamilySize1_Medium    418 non-null uint8\n",
      "FamilySize1_Single    418 non-null uint8\n",
      "FamilySize1_Small     418 non-null uint8\n",
      "dtypes: float64(1), int64(3), uint8(34)\n",
      "memory usage: 30.2 KB\n"
     ]
    }
   ],
   "source": [
    "X_test = titanic2[titanic_train.shape[0]:]\n",
    "X_test.shape\n",
    "X_test.info()\n",
    "titanic_test['Survived'] = grid_ada_estimator.predict(X_test)\n",
    "\n",
    "titanic_test.to_csv('submission_Ada.csv', columns=['PassengerId','Survived'],index=False)"
   ]
  }
 ],
 "metadata": {
  "kernelspec": {
   "display_name": "Python 3",
   "language": "python",
   "name": "python3"
  },
  "language_info": {
   "codemirror_mode": {
    "name": "ipython",
    "version": 3
   },
   "file_extension": ".py",
   "mimetype": "text/x-python",
   "name": "python",
   "nbconvert_exporter": "python",
   "pygments_lexer": "ipython3",
   "version": "3.7.0"
  }
 },
 "nbformat": 4,
 "nbformat_minor": 2
}
